{
 "cells": [
  {
   "cell_type": "markdown",
   "id": "bda7c803-ff87-4973-b585-8706530d95b9",
   "metadata": {},
   "source": [
    "# empty solar"
   ]
  },
  {
   "cell_type": "code",
   "execution_count": 11,
   "id": "6849f8a8-2a37-4978-aa18-5ad3aec61a7f",
   "metadata": {},
   "outputs": [
    {
     "name": "stdout",
     "output_type": "stream",
     "text": [
      "All documents deleted successfully.\n",
      "Changes committed.\n"
     ]
    }
   ],
   "source": [
    "import requests\n",
    "\n",
    "# Replace with your actual Solr core name\n",
    "solr_core = \"mycore\"\n",
    "solr_url = f\"http://localhost:8983/solr/{solr_core}/update\"\n",
    "\n",
    "# Delete all documents\n",
    "delete_all_query = {\n",
    "    \"delete\": {\"query\": \"*:*\"}\n",
    "}\n",
    "\n",
    "# Send delete request\n",
    "response = requests.post(solr_url, json=delete_all_query, headers={\"Content-type\": \"application/json\"})\n",
    "\n",
    "if response.status_code == 200:\n",
    "    print(\"All documents deleted successfully.\")\n",
    "else:\n",
    "    print(f\"Failed to delete documents: {response.text}\")\n",
    "\n",
    "# Commit the changes\n",
    "commit_url = f\"http://localhost:8983/solr/{solr_core}/update?commit=true\"\n",
    "commit_response = requests.get(commit_url)\n",
    "\n",
    "if commit_response.status_code == 200:\n",
    "    print(\"Changes committed.\")\n",
    "else:\n",
    "    print(f\"Failed to commit changes: {commit_response.text}\")\n"
   ]
  },
  {
   "cell_type": "code",
   "execution_count": 5,
   "id": "06ce2dc1-da1a-4f43-99c6-8eaac6101ca2",
   "metadata": {},
   "outputs": [
    {
     "name": "stdout",
     "output_type": "stream",
     "text": [
      "Document uploaded successfully.\n"
     ]
    }
   ],
   "source": [
    "import requests\n",
    "import json\n",
    "\n",
    "# Solr core name\n",
    "core_name = \"mycore\"\n",
    "\n",
    "# Solr update endpoint (note `/json/docs` here)\n",
    "url = f\"http://localhost:8983/solr/{core_name}/update/json/docs?commit=true\"\n",
    "\n",
    "# Load your unmodified single JSON object\n",
    "with open(\"/home/pa2/ml/tf_gpu/OCR/D:/BPL/BLS/Result/BPL- TM Applications.json\", \"r\") as f:\n",
    "    doc = json.load(f)\n",
    "\n",
    "# Add an ID if needed\n",
    "if 'id' not in doc:\n",
    "    doc['id'] = 'doc1'  # Solr requires an 'id' field\n",
    "\n",
    "# Send it to Solr\n",
    "headers = {\"Content-Type\": \"application/json\"}\n",
    "response = requests.post(url, headers=headers, json=doc)\n",
    "\n",
    "# Response check\n",
    "if response.status_code == 200:\n",
    "    print(\"Document uploaded successfully.\")\n",
    "else:\n",
    "    print(f\"Failed to upload document. Status: {response.status_code}\")\n",
    "    print(response.text)\n"
   ]
  },
  {
   "cell_type": "code",
   "execution_count": 24,
   "id": "797333c6-409d-47aa-a3a7-e6e5c8824207",
   "metadata": {},
   "outputs": [],
   "source": [
    "import requests\n",
    "import json\n",
    "\n",
    "# Solr configuration\n",
    "core_name = \"mycore\"  # Replace with actual core name\n",
    "solr_url = f\"http://localhost:8983/solr/{core_name}/select\"\n",
    "params = {\n",
    "    \"q\": \"*:*\",\n",
    "    \"wt\": \"json\",\n",
    "    \"rows\": 2\n",
    "}\n",
    "\n",
    "# Query Solr\n",
    "response = requests.get(solr_url, params=params)\n",
    "data = response.json()\n",
    "doc = data[\"response\"][\"docs\"][0]\n",
    "\n",
    "# Fix section_embedding\n",
    "# flat_embedding = doc.get(\"section_embedding\", [])\n",
    "# embedding_dim = 1024\n",
    "\n",
    "# # Reconstruct 2D array\n",
    "# if len(flat_embedding) % embedding_dim != 0:\n",
    "#     raise ValueError(\"Flat embedding length is not divisible by embedding dimension.\")\n",
    "\n",
    "# num_vectors = len(flat_embedding) // embedding_dim\n",
    "# section_embedding_2d = [\n",
    "#     flat_embedding[i * embedding_dim: (i + 1) * embedding_dim]\n",
    "#     for i in range(num_vectors)\n",
    "# ]\n",
    "\n",
    "# Construct result\n",
    "# result = {\n",
    "#     \"class\": doc.get(\"class\", [\"\"])[0],\n",
    "#     \"text\": doc.get(\"text\", [\"\"])[0],\n",
    "#     \"section_embedding\": section_embedding_2d,\n",
    "#     \"total_embedding\": doc.get(\"total_embedding\", [])\n",
    "# }\n",
    "\n",
    "# Save to JSON\n",
    "# output_json = \"solr_output.json\"\n",
    "# with open(output_json, \"w\", encoding=\"utf-8\") as f:\n",
    "#     json.dump(result, f, indent=2)\n",
    "\n",
    "# print(f\"Saved structured result to: {output_json}\")\n"
   ]
  },
  {
   "cell_type": "code",
   "execution_count": 27,
   "id": "bb2cac8f-bce2-4905-b1cf-77c89afe3f51",
   "metadata": {},
   "outputs": [
    {
     "data": {
      "text/plain": [
       "1024"
      ]
     },
     "execution_count": 27,
     "metadata": {},
     "output_type": "execute_result"
    }
   ],
   "source": [
    "len(doc['total_embedding'])"
   ]
  },
  {
   "cell_type": "code",
   "execution_count": 18,
   "id": "bb8066e1-350f-4f3d-b865-1fb357338593",
   "metadata": {},
   "outputs": [
    {
     "name": "stdout",
     "output_type": "stream",
     "text": [
      "[OK] Uploaded: BPL- TM Applications.json\n",
      "[OK] Uploaded: Alvira_Reality_Services_Pvt_Ltd_vs_Govt_Of_Nct_Of_Delhi_Anr_on_28_March_2025.json\n"
     ]
    }
   ],
   "source": [
    "import os\n",
    "import json\n",
    "import requests\n",
    "SOLR_URL = \"http://localhost:8983/solr/mycore/update/json/docs\"\n",
    "HEADERS = {\"Content-Type\": \"application/json\"}\n",
    "JSON_DIR = \"/home/pa2/ml/tf_gpu/OCR/D:/BPL/BLS/Result/\"\n",
    "def upload_json_files_to_solr(json_dir):\n",
    "    for filename in os.listdir(json_dir):\n",
    "        if filename.endswith(\".json\"):\n",
    "            filepath = os.path.join(json_dir, filename)\n",
    "            with open(filepath, \"r\", encoding=\"utf-8\") as f:\n",
    "                doc = json.load(f)\n",
    "            if \"id\" not in doc:\n",
    "                print(f\"[SKIP] Missing 'id' in: {filename}\")\n",
    "                continue\n",
    "            if \"section_embedding\" in doc and isinstance(doc[\"section_embedding\"], list):\n",
    "                if doc[\"section_embedding\"] and isinstance(doc[\"section_embedding\"][0], (int, float)):\n",
    "                    doc[\"section_embedding\"] = [doc[\"section_embedding\"]]\n",
    "            response = requests.post(SOLR_URL + \"?commit=true\", headers=HEADERS, json=doc)\n",
    "            if response.status_code == 200:\n",
    "                print(f\"[OK] Uploaded: {filename}\")\n",
    "            else:\n",
    "                print(f\"[FAIL] {filename} - {response.status_code}: {response.text}\")\n",
    "upload_json_files_to_solr(JSON_DIR)"
   ]
  },
  {
   "cell_type": "code",
   "execution_count": 2,
   "id": "cb25201f-40d6-4899-9e14-ad2dd0d99bfa",
   "metadata": {},
   "outputs": [],
   "source": [
    "import requests\n",
    "import json\n",
    "import os\n",
    "core_name = \"mycore\"\n",
    "solr_url = f\"http://localhost:8983/solr/{core_name}/select\"\n",
    "initial_params = {\n",
    "    \"q\": \"*:*\",\n",
    "    \"wt\": \"json\",\n",
    "    \"rows\": 0\n",
    "}\n",
    "response = requests.get(solr_url, params=initial_params)\n",
    "total_docs = response.json()[\"response\"][\"numFound\"]\n",
    "params = {\n",
    "    \"q\": \"*:*\",\n",
    "    \"wt\": \"json\",\n",
    "    \"rows\": total_docs\n",
    "}\n",
    "response = requests.get(solr_url, params=params)\n",
    "docs = response.json()[\"response\"][\"docs\"]"
   ]
  },
  {
   "cell_type": "code",
   "execution_count": 64,
   "id": "0f8bf9b5-172d-40af-8444-11fcdf3d1c49",
   "metadata": {},
   "outputs": [],
   "source": [
    "def embedding_conversion(li,embedding_dim=1024):\n",
    "    flat_embedding=li\n",
    "    if len(flat_embedding) % embedding_dim != 0:\n",
    "        raise ValueError(\"Flat embedding length is not divisible by embedding dimension.\")\n",
    "    \n",
    "    num_vectors = len(flat_embedding) // embedding_dim\n",
    "    section_embedding_2d = [\n",
    "        flat_embedding[i * embedding_dim: (i + 1) * embedding_dim]\n",
    "        for i in range(num_vectors)\n",
    "    ]\n",
    "    return section_embedding_2d"
   ]
  },
  {
   "cell_type": "code",
   "execution_count": 67,
   "id": "e0668c09-8a8e-4c4c-bfc1-a1a5197938ff",
   "metadata": {},
   "outputs": [],
   "source": [
    "dic={}\n",
    "docs1=docs\n",
    "for i in range(len(docs)):\n",
    "    # print(docs[i][\"section_embedding\"])\n",
    "    li=[docs[i]['class'][0],docs[i]['text'][0],embedding_conversion(docs[i][\"section_embedding\"]),docs[i]['total_embedding']]\n",
    "    dic[i]=li\n",
    "    # break"
   ]
  },
  {
   "cell_type": "code",
   "execution_count": 68,
   "id": "3c16c9d8-19df-4407-bf65-3e9d82714d55",
   "metadata": {},
   "outputs": [
    {
     "data": {
      "text/plain": [
       "dict_keys(['id', 'class', 'text', 'section_embedding', 'total_embedding', '_version_'])"
      ]
     },
     "execution_count": 68,
     "metadata": {},
     "output_type": "execute_result"
    }
   ],
   "source": [
    "docs1[0].keys()"
   ]
  },
  {
   "cell_type": "code",
   "execution_count": 69,
   "id": "15168903-2982-455e-b81a-1f68a5a04f19",
   "metadata": {},
   "outputs": [
    {
     "data": {
      "text/plain": [
       "'BPL- TM Applications'"
      ]
     },
     "execution_count": 69,
     "metadata": {},
     "output_type": "execute_result"
    }
   ],
   "source": [
    "docs1[0]['id']"
   ]
  },
  {
   "cell_type": "code",
   "execution_count": 83,
   "id": "d1fb84f0-bf32-4d4c-9cc5-a771fab1d15b",
   "metadata": {},
   "outputs": [],
   "source": [
    "import fitz\n",
    "import os\n",
    "import cv2\n",
    "import numpy as np\n",
    "import matplotlib.pyplot as plt\n",
    "import matplotlib.patches as patches\n",
    "from doctr.models import ocr_predictor\n",
    "from doctr.io import DocumentFile\n",
    "from PIL import Image\n",
    "import torch\n",
    "from transformers import VisionEncoderDecoderModel, TrOCRProcessor,BitsAndBytesConfig\n",
    "from pdf2image import convert_from_path\n",
    "from langchain_huggingface import HuggingFaceEmbeddings\n",
    "from sklearn.metrics.pairwise import cosine_similarity\n",
    "import numpy as np\n",
    "from langchain_community.vectorstores import FAISS\n",
    "from langchain_text_splitters import RecursiveCharacterTextSplitter\n",
    "from sklearn.preprocessing import StandardScaler\n",
    "import torch\n",
    "import json\n",
    "import csv\n",
    "import threading\n",
    "import requests"
   ]
  },
  {
   "cell_type": "code",
   "execution_count": 84,
   "id": "676df1fa-bc7d-48ff-8ab2-5e07900f2a33",
   "metadata": {
    "scrolled": true
   },
   "outputs": [
    {
     "name": "stdout",
     "output_type": "stream",
     "text": [
      "Processing Contractual Document Document\n",
      "Processing Regulatory and Compliance Sub Categories Document\n",
      "Processing IPR Categories Document\n",
      "Processing Litigation and Dispute Categories Document\n",
      "Processing Property and Real Estate Document\n",
      "Processing Corporate and Governance Categories Document\n",
      "Processing HR Document categories Document\n",
      "Processing Finance and Banking Categories Document\n",
      "Processing Government and public laws Document\n",
      "Processing Personal and Civil Legal Documents Document\n",
      "Processing Bill of Entry Document\n"
     ]
    }
   ],
   "source": [
    "paths=[\n",
    "    \"/home/pa2/ml/Document-Classification/CLASSIFICATION FILES/1.Contractual Document.txt\",\n",
    "    \"/home/pa2/ml/Document-Classification/CLASSIFICATION FILES/2.Regulatory and Compliance Sub Categories.txt\",\n",
    "    \"/home/pa2/ml/Document-Classification/CLASSIFICATION FILES/3.IPR Categories.txt\",\n",
    "    \"/home/pa2/ml/Document-Classification/CLASSIFICATION FILES/4.Litigation and Dispute Categories.txt\",\n",
    "    \"/home/pa2/ml/Document-Classification/CLASSIFICATION FILES/5.Property and Real Estate.txt\",\n",
    "    \"/home/pa2/ml/Document-Classification/CLASSIFICATION FILES/6.Corporate and Governance Categories.txt\",\n",
    "    \"/home/pa2/ml/Document-Classification/CLASSIFICATION FILES/7.HR Document categories.txt\",\n",
    "    \"/home/pa2/ml/Document-Classification/CLASSIFICATION FILES/8.Finance and Banking Categories.txt\",\n",
    "    \"/home/pa2/ml/Document-Classification/CLASSIFICATION FILES/9.Government and public laws.txt\",\n",
    "    \"/home/pa2/ml/Document-Classification/CLASSIFICATION FILES/10.Personal and Civil Legal Documents.txt\",\n",
    "    \"/home/pa2/ml/Document-Classification/CLASSIFICATION FILES/11.Bill of Entry.txt\"\n",
    "]\n",
    "emb_dict={}\n",
    "text_splitter = RecursiveCharacterTextSplitter(\n",
    "        chunk_size=1500,\n",
    "        chunk_overlap=0\n",
    "    )\n",
    "model=HuggingFaceEmbeddings(\n",
    "    model_name=\"intfloat/e5-large-v2\",\n",
    ")\n",
    "for i in paths:\n",
    "    name=i.split('/')[-1].split('.')[1]\n",
    "    print(\"Processing\",name,\"Document\")\n",
    "    with open(i,'r') as file:\n",
    "        new_context=file.read()\n",
    "    docs=text_splitter.split_text(new_context)\n",
    "    docs=model.embed_documents(docs)\n",
    "    doc=np.zeros(len(docs[0]))\n",
    "    for j in docs:\n",
    "        doc+=j\n",
    "    emb_dict[i]=doc\n"
   ]
  },
  {
   "cell_type": "code",
   "execution_count": 85,
   "id": "bb9d1638-9136-46b0-964c-bb2f97d7ec66",
   "metadata": {},
   "outputs": [
    {
     "data": {
      "text/plain": [
       "{'/home/pa2/ml/Document-Classification/CLASSIFICATION FILES/1.Contractual Document.txt': array([ 3.44799794, -7.76196136,  6.94890799, ..., -6.92812096,\n",
       "         7.62558395,  5.5105202 ], shape=(1024,)),\n",
       " '/home/pa2/ml/Document-Classification/CLASSIFICATION FILES/2.Regulatory and Compliance Sub Categories.txt': array([  2.22487216, -12.26199993,   8.47237386, ...,  -8.74275181,\n",
       "          8.17517548,   2.986623  ], shape=(1024,)),\n",
       " '/home/pa2/ml/Document-Classification/CLASSIFICATION FILES/3.IPR Categories.txt': array([  1.27148668, -10.18916291,  10.42277481, ...,  -7.07592817,\n",
       "          9.81600397,   5.54344384], shape=(1024,)),\n",
       " '/home/pa2/ml/Document-Classification/CLASSIFICATION FILES/4.Litigation and Dispute Categories.txt': array([  2.09481126, -12.37001365,  11.96785082, ..., -10.0581905 ,\n",
       "         10.8287801 ,  -1.10811053], shape=(1024,)),\n",
       " '/home/pa2/ml/Document-Classification/CLASSIFICATION FILES/5.Property and Real Estate.txt': array([ 1.50327174, -5.66086469,  7.81525035, ..., -8.4682214 ,\n",
       "         8.55662783,  0.85942307], shape=(1024,)),\n",
       " '/home/pa2/ml/Document-Classification/CLASSIFICATION FILES/6.Corporate and Governance Categories.txt': array([  3.63572187, -11.97567185,   7.37724581, ...,  -8.59058407,\n",
       "          8.29276994,   3.06223828], shape=(1024,)),\n",
       " '/home/pa2/ml/Document-Classification/CLASSIFICATION FILES/7.HR Document categories.txt': array([  2.38134082, -14.4132777 ,   8.78386503, ...,  -9.05948943,\n",
       "          8.13576377,   5.5455265 ], shape=(1024,)),\n",
       " '/home/pa2/ml/Document-Classification/CLASSIFICATION FILES/8.Finance and Banking Categories.txt': array([ 3.9478638 , -9.30388876,  9.08887558, ..., -8.91509168,\n",
       "        10.11874479,  1.91462602], shape=(1024,)),\n",
       " '/home/pa2/ml/Document-Classification/CLASSIFICATION FILES/9.Government and public laws.txt': array([  2.78824287, -10.31885303,   9.93410228, ...,  -9.12498925,\n",
       "          6.80312538,   1.11983385], shape=(1024,)),\n",
       " '/home/pa2/ml/Document-Classification/CLASSIFICATION FILES/10.Personal and Civil Legal Documents.txt': array([  1.79554164, -11.32311716,   9.06838632, ...,  -8.61582864,\n",
       "         10.52319273,   1.54119968], shape=(1024,)),\n",
       " '/home/pa2/ml/Document-Classification/CLASSIFICATION FILES/11.Bill of Entry.txt': array([ 0.4623978 , -2.60747719,  1.96213558, ..., -2.0259838 ,\n",
       "         1.77185509,  0.63901934], shape=(1024,))}"
      ]
     },
     "execution_count": 85,
     "metadata": {},
     "output_type": "execute_result"
    }
   ],
   "source": [
    "emb_dict"
   ]
  },
  {
   "cell_type": "code",
   "execution_count": 86,
   "id": "375d2a29-07cd-44c5-89f5-37f95290dff9",
   "metadata": {},
   "outputs": [
    {
     "name": "stdout",
     "output_type": "stream",
     "text": [
      "[FAIL] Core creation failed: 400\n",
      "{\n",
      "  \"responseHeader\":{\n",
      "    \"status\":400,\n",
      "    \"QTime\":7},\n",
      "  \"error\":{\n",
      "    \"metadata\":[\n",
      "      \"error-class\",\"org.apache.solr.common.SolrException\",\n",
      "      \"root-error-class\",\"org.apache.solr.common.SolrException\"],\n",
      "    \"msg\":\"Error CREATEing SolrCore 'emb_core': Unable to create core [emb_core] Caused by: Could not load configuration from directory /var/solr/data/configsets/_default\",\n",
      "    \"code\":400}}\n",
      "\n"
     ]
    }
   ],
   "source": [
    "import requests\n",
    "\n",
    "# Configuration\n",
    "SOLR_URL = \"http://localhost:8983/solr/admin/cores\"\n",
    "CORE_NAME = \"emb_core\"  # Name of the core you want to create\n",
    "INSTANCE_DIR = CORE_NAME   # Use same name for instanceDir by convention\n",
    "\n",
    "params = {\n",
    "    \"action\": \"CREATE\",\n",
    "    \"name\": CORE_NAME,\n",
    "    \"instanceDir\": INSTANCE_DIR,\n",
    "    \"configSet\": \"_default\",  # Or use a custom config set if you've uploaded one\n",
    "    \"numShards\": 1\n",
    "}\n",
    "\n",
    "# Send request\n",
    "response = requests.get(SOLR_URL, params=params)\n",
    "\n",
    "# Result\n",
    "if response.status_code == 200 and \"responseHeader\" in response.json():\n",
    "    print(f\"[OK] Core '{CORE_NAME}' created successfully.\")\n",
    "else:\n",
    "    print(f\"[FAIL] Core creation failed: {response.status_code}\")\n",
    "    print(response.text)\n"
   ]
  },
  {
   "cell_type": "code",
   "execution_count": 87,
   "id": "0db26047-ce72-4346-a929-40dad9181087",
   "metadata": {},
   "outputs": [
    {
     "name": "stdout",
     "output_type": "stream",
     "text": [
      "[OK] Core 'emb_core' deleted successfully.\n"
     ]
    }
   ],
   "source": [
    "import requests\n",
    "\n",
    "core_name = \"emb_core\"\n",
    "solr_url = f\"http://localhost:8983/solr/admin/cores?action=UNLOAD&core={core_name}&deleteIndex=true&deleteDataDir=true&deleteInstanceDir=true\"\n",
    "\n",
    "response = requests.get(solr_url)\n",
    "\n",
    "if response.status_code == 200:\n",
    "    print(f\"[OK] Core '{core_name}' deleted successfully.\")\n",
    "else:\n",
    "    print(f\"[FAIL] Failed to delete core '{core_name}': {response.status_code}\")\n",
    "    print(response.text)\n"
   ]
  },
  {
   "cell_type": "code",
   "execution_count": 108,
   "id": "ee388cd2-671e-4f68-9382-e0f88ed9b174",
   "metadata": {},
   "outputs": [
    {
     "name": "stdout",
     "output_type": "stream",
     "text": [
      "11\n",
      "[OK] Indexed 11 documents.\n"
     ]
    }
   ],
   "source": [
    "import requests\n",
    "import numpy as np\n",
    "\n",
    "# ——— Your emb_dict example ———\n",
    "# emb_dict: { filepath (str) → np.ndarray(shape=(1024,)) }\n",
    "# (You already have this in your notebook.)\n",
    "\n",
    "# ——— Solr configuration ———\n",
    "CORE = \"emb_core\"\n",
    "SOLR_URL = f\"http://localhost:8983/solr/{CORE}/update?commit=true\"\n",
    "HEADERS  = {\"Content-Type\": \"application/json\"}\n",
    "\n",
    "def index_emb_dict(emb_dict):\n",
    "    # Build a batch of Solr docs\n",
    "    docs = []\n",
    "    for path, arr in emb_dict.items():\n",
    "        vec = arr.tolist()  # convert numpy → plain Python list\n",
    "        docs.append({\n",
    "            \"id\": path,                 # unique ID\n",
    "            \"filepath\": path,\n",
    "            \"total_embedding\": vec,     # 1D embedding\n",
    "            # if you actually want a 2D “section_embedding”:\n",
    "            # \"section_embedding\": [vec],\n",
    "        })\n",
    "\n",
    "    # Send all docs in one bulk update\n",
    "    print(len(docs))\n",
    "    resp = requests.post(SOLR_URL, headers=HEADERS, json=docs)\n",
    "    if resp.ok:\n",
    "        print(f\"[OK] Indexed {len(docs)} documents.\")\n",
    "    else:\n",
    "        print(f\"[FAIL] {resp.status_code}\\n{resp.text}\")\n",
    "\n",
    "# ——— Call it! ———\n",
    "index_emb_dict(emb_dict)\n"
   ]
  },
  {
   "cell_type": "code",
   "execution_count": 110,
   "id": "51a5bf75-f6f9-4784-937a-1b128817c205",
   "metadata": {},
   "outputs": [
    {
     "name": "stdout",
     "output_type": "stream",
     "text": [
      "Reconstructed emb_dict with 11 entries.\n"
     ]
    }
   ],
   "source": [
    "import requests\n",
    "import numpy as np\n",
    "\n",
    "# ——— Solr configuration ———\n",
    "CORE     = \"emb_core\"  # or \"mycore\", whatever your core is called\n",
    "BASE_URL = f\"http://localhost:8983/solr/{CORE}/select\"\n",
    "\n",
    "# 1) Fetch the total number of docs\n",
    "resp0 = requests.get(BASE_URL, params={\"q\": \"*:*\", \"wt\": \"json\", \"rows\": 0})\n",
    "resp0.raise_for_status()\n",
    "total = resp0.json()[\"response\"][\"numFound\"]\n",
    "\n",
    "# 2) Fetch all docs in one go\n",
    "resp1 = requests.get(\n",
    "    BASE_URL,\n",
    "    params={\"q\": \"*:*\", \"wt\": \"json\", \"rows\": total}\n",
    ")\n",
    "resp1.raise_for_status()\n",
    "docs = resp1.json()[\"response\"][\"docs\"]\n",
    "\n",
    "# 3) Reconstruct emb_dict\n",
    "emb_dict1 = {}\n",
    "for d in docs:\n",
    "    path = d[\"id\"]\n",
    "    # pull the stored list and turn it back into an ndarray\n",
    "    vec  = d.get(\"total_embedding\", [])\n",
    "    emb_dict1[path] = np.array(vec, dtype=float)\n",
    "\n",
    "# ✔️ Now emb_dict[path] is your original np.array(shape=(1024,))\n",
    "print(f\"Reconstructed emb_dict with {len(emb_dict1)} entries.\")\n"
   ]
  },
  {
   "cell_type": "code",
   "execution_count": 119,
   "id": "1501e159-256a-4a86-b7bc-db58cd762666",
   "metadata": {},
   "outputs": [
    {
     "name": "stdout",
     "output_type": "stream",
     "text": [
      "[ 3.44799794 -7.76196136  6.94890799 ... -6.92812096  7.62558395\n",
      "  5.5105202 ]\n",
      "[  2.22487216 -12.26199993   8.47237386 ...  -8.74275181   8.17517548\n",
      "   2.986623  ]\n",
      "[  1.27148668 -10.18916291  10.42277481 ...  -7.07592817   9.81600397\n",
      "   5.54344384]\n",
      "[  2.09481126 -12.37001365  11.96785082 ... -10.0581905   10.8287801\n",
      "  -1.10811053]\n",
      "[ 1.50327174 -5.66086469  7.81525035 ... -8.4682214   8.55662783\n",
      "  0.85942307]\n",
      "[  3.63572187 -11.97567185   7.37724581 ...  -8.59058407   8.29276994\n",
      "   3.06223828]\n",
      "[  2.38134082 -14.4132777    8.78386503 ...  -9.05948943   8.13576377\n",
      "   5.5455265 ]\n",
      "[ 3.9478638  -9.30388876  9.08887558 ... -8.91509168 10.11874479\n",
      "  1.91462602]\n",
      "[  2.78824287 -10.31885303   9.93410228 ...  -9.12498925   6.80312538\n",
      "   1.11983385]\n",
      "[  1.79554164 -11.32311716   9.06838632 ...  -8.61582864  10.52319273\n",
      "   1.54119968]\n",
      "[ 0.4623978  -2.60747719  1.96213558 ... -2.0259838   1.77185509\n",
      "  0.63901934]\n"
     ]
    }
   ],
   "source": [
    "for i in emb_dict1:\n",
    "    print(emb_dict[i])"
   ]
  },
  {
   "cell_type": "code",
   "execution_count": 121,
   "id": "5a337789-2378-4562-8e18-918dea03b995",
   "metadata": {},
   "outputs": [
    {
     "name": "stdout",
     "output_type": "stream",
     "text": [
      "{'/home/pa2/ml/Document-Classification/CLASSIFICATION FILES/1.Contractual Document.txt': array([ 3.44799794, -7.76196136,  6.94890799, ..., -6.92812096,\n",
      "        7.62558395,  5.5105202 ], shape=(1024,)), '/home/pa2/ml/Document-Classification/CLASSIFICATION FILES/2.Regulatory and Compliance Sub Categories.txt': array([  2.22487216, -12.26199993,   8.47237386, ...,  -8.74275181,\n",
      "         8.17517548,   2.986623  ], shape=(1024,)), '/home/pa2/ml/Document-Classification/CLASSIFICATION FILES/3.IPR Categories.txt': array([  1.27148668, -10.18916291,  10.42277481, ...,  -7.07592817,\n",
      "         9.81600397,   5.54344384], shape=(1024,)), '/home/pa2/ml/Document-Classification/CLASSIFICATION FILES/4.Litigation and Dispute Categories.txt': array([  2.09481126, -12.37001365,  11.96785082, ..., -10.0581905 ,\n",
      "        10.8287801 ,  -1.10811053], shape=(1024,)), '/home/pa2/ml/Document-Classification/CLASSIFICATION FILES/5.Property and Real Estate.txt': array([ 1.50327174, -5.66086469,  7.81525035, ..., -8.4682214 ,\n",
      "        8.55662783,  0.85942307], shape=(1024,)), '/home/pa2/ml/Document-Classification/CLASSIFICATION FILES/6.Corporate and Governance Categories.txt': array([  3.63572187, -11.97567185,   7.37724581, ...,  -8.59058407,\n",
      "         8.29276994,   3.06223828], shape=(1024,)), '/home/pa2/ml/Document-Classification/CLASSIFICATION FILES/7.HR Document categories.txt': array([  2.38134082, -14.4132777 ,   8.78386503, ...,  -9.05948943,\n",
      "         8.13576377,   5.5455265 ], shape=(1024,)), '/home/pa2/ml/Document-Classification/CLASSIFICATION FILES/8.Finance and Banking Categories.txt': array([ 3.9478638 , -9.30388876,  9.08887558, ..., -8.91509168,\n",
      "       10.11874479,  1.91462602], shape=(1024,)), '/home/pa2/ml/Document-Classification/CLASSIFICATION FILES/9.Government and public laws.txt': array([  2.78824287, -10.31885303,   9.93410228, ...,  -9.12498925,\n",
      "         6.80312538,   1.11983385], shape=(1024,)), '/home/pa2/ml/Document-Classification/CLASSIFICATION FILES/10.Personal and Civil Legal Documents.txt': array([  1.79554164, -11.32311716,   9.06838632, ...,  -8.61582864,\n",
      "        10.52319273,   1.54119968], shape=(1024,)), '/home/pa2/ml/Document-Classification/CLASSIFICATION FILES/11.Bill of Entry.txt': array([ 0.4623978 , -2.60747719,  1.96213558, ..., -2.0259838 ,\n",
      "        1.77185509,  0.63901934], shape=(1024,))}\n"
     ]
    }
   ],
   "source": [
    "print(emb_dict1)"
   ]
  },
  {
   "cell_type": "code",
   "execution_count": 122,
   "id": "ceb42f7f-1daa-45e5-bf44-49130146a3ae",
   "metadata": {},
   "outputs": [
    {
     "name": "stdout",
     "output_type": "stream",
     "text": [
      "{'/home/pa2/ml/Document-Classification/CLASSIFICATION FILES/1.Contractual Document.txt': array([ 3.44799794, -7.76196136,  6.94890799, ..., -6.92812096,\n",
      "        7.62558395,  5.5105202 ], shape=(1024,)), '/home/pa2/ml/Document-Classification/CLASSIFICATION FILES/2.Regulatory and Compliance Sub Categories.txt': array([  2.22487216, -12.26199993,   8.47237386, ...,  -8.74275181,\n",
      "         8.17517548,   2.986623  ], shape=(1024,)), '/home/pa2/ml/Document-Classification/CLASSIFICATION FILES/3.IPR Categories.txt': array([  1.27148668, -10.18916291,  10.42277481, ...,  -7.07592817,\n",
      "         9.81600397,   5.54344384], shape=(1024,)), '/home/pa2/ml/Document-Classification/CLASSIFICATION FILES/4.Litigation and Dispute Categories.txt': array([  2.09481126, -12.37001365,  11.96785082, ..., -10.0581905 ,\n",
      "        10.8287801 ,  -1.10811053], shape=(1024,)), '/home/pa2/ml/Document-Classification/CLASSIFICATION FILES/5.Property and Real Estate.txt': array([ 1.50327174, -5.66086469,  7.81525035, ..., -8.4682214 ,\n",
      "        8.55662783,  0.85942307], shape=(1024,)), '/home/pa2/ml/Document-Classification/CLASSIFICATION FILES/6.Corporate and Governance Categories.txt': array([  3.63572187, -11.97567185,   7.37724581, ...,  -8.59058407,\n",
      "         8.29276994,   3.06223828], shape=(1024,)), '/home/pa2/ml/Document-Classification/CLASSIFICATION FILES/7.HR Document categories.txt': array([  2.38134082, -14.4132777 ,   8.78386503, ...,  -9.05948943,\n",
      "         8.13576377,   5.5455265 ], shape=(1024,)), '/home/pa2/ml/Document-Classification/CLASSIFICATION FILES/8.Finance and Banking Categories.txt': array([ 3.9478638 , -9.30388876,  9.08887558, ..., -8.91509168,\n",
      "       10.11874479,  1.91462602], shape=(1024,)), '/home/pa2/ml/Document-Classification/CLASSIFICATION FILES/9.Government and public laws.txt': array([  2.78824287, -10.31885303,   9.93410228, ...,  -9.12498925,\n",
      "         6.80312538,   1.11983385], shape=(1024,)), '/home/pa2/ml/Document-Classification/CLASSIFICATION FILES/10.Personal and Civil Legal Documents.txt': array([  1.79554164, -11.32311716,   9.06838632, ...,  -8.61582864,\n",
      "        10.52319273,   1.54119968], shape=(1024,)), '/home/pa2/ml/Document-Classification/CLASSIFICATION FILES/11.Bill of Entry.txt': array([ 0.4623978 , -2.60747719,  1.96213558, ..., -2.0259838 ,\n",
      "        1.77185509,  0.63901934], shape=(1024,))}\n"
     ]
    }
   ],
   "source": [
    "print(emb_dict)"
   ]
  },
  {
   "cell_type": "code",
   "execution_count": null,
   "id": "27732a02-3a7f-41fa-8853-0a950869330c",
   "metadata": {},
   "outputs": [],
   "source": []
  }
 ],
 "metadata": {
  "kernelspec": {
   "display_name": "Python 3 (ipykernel)",
   "language": "python",
   "name": "python3"
  },
  "language_info": {
   "codemirror_mode": {
    "name": "ipython",
    "version": 3
   },
   "file_extension": ".py",
   "mimetype": "text/x-python",
   "name": "python",
   "nbconvert_exporter": "python",
   "pygments_lexer": "ipython3",
   "version": "3.10.16"
  }
 },
 "nbformat": 4,
 "nbformat_minor": 5
}
