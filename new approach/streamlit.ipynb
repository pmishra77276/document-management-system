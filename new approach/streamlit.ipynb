{
 "cells": [
  {
   "cell_type": "code",
   "execution_count": 8,
   "id": "6536db33-04a9-4096-a2d8-76ff9eb0d770",
   "metadata": {},
   "outputs": [
    {
     "name": "stdout",
     "output_type": "stream",
     "text": [
      "🚀 Streamlit launched (PID 820303) — waiting 5s…\n",
      "---- streamlit.log ----\n",
      "\n",
      "You can now view your Streamlit app in your browser.\n",
      "\n",
      "Local URL: http://localhost:8503\n",
      "Network URL: http://10.111.1.32:8503\n",
      "\n"
     ]
    }
   ],
   "source": [
    "import sys, subprocess, time, os\n",
    "\n",
    "# 1) Install dependencies\n",
    "for pkg in (\"streamlit\", \"PyPDF2\"):\n",
    "    subprocess.check_call([sys.executable, \"-m\", \"pip\", \"install\", \"--quiet\", pkg])\n",
    "\n",
    "# 2) Write Streamlit app with fixed string formatting\n",
    "app_code = '''\n",
    "import streamlit as st\n",
    "import PyPDF2\n",
    "\n",
    "@st.cache_data\n",
    "def extract_text_from_pdf(f):\n",
    "    reader = PyPDF2.PdfReader(f)\n",
    "    return \"\\\\n\".join(p.extract_text() or \"\" for p in reader.pages)\n",
    "\n",
    "def generate_response(text, q):\n",
    "    low, qlow = text.lower(), q.lower()\n",
    "    idx = low.find(qlow)\n",
    "    if idx == -1:\n",
    "        return \"Sorry, I couldn’t find anything relevant.\"\n",
    "    start = max(idx - 100, 0)\n",
    "    end = min(idx + len(q) + 200, len(text))\n",
    "    snippet = text[start:end].replace(\"\\\\n\", \" \")\n",
    "    return \"…\" + snippet + \"…\"\n",
    "\n",
    "st.set_page_config(page_title=\"PDF Chatbot\")\n",
    "st.title(\"📄 PDF Chatbot\")\n",
    "\n",
    "f = st.file_uploader(\"Upload a PDF file\", type=[\"pdf\"])\n",
    "if f:\n",
    "    txt = extract_text_from_pdf(f)\n",
    "    st.success(\"✅ PDF processed!\")\n",
    "    q = st.text_input(\"Ask something about the document:\")\n",
    "    if q:\n",
    "        st.markdown(\"### 💬 Response\")\n",
    "        st.write(generate_response(txt, q))\n",
    "'''\n",
    "\n",
    "with open(\"app.py\", \"w\", encoding=\"utf-8\") as f:\n",
    "    f.write(app_code)\n",
    "\n",
    "# 3) Launch Streamlit in background\n",
    "log = open(\"streamlit.log\", \"w\")\n",
    "proc = subprocess.Popen(\n",
    "    [sys.executable, \"-m\", \"streamlit\", \"run\", \"app.py\"],\n",
    "    stdout=log,\n",
    "    stderr=log\n",
    ")\n",
    "\n",
    "print(f\"🚀 Streamlit launched (PID {proc.pid}) — waiting 5s…\")\n",
    "time.sleep(5)\n",
    "\n",
    "# 4) Print out log head so you can get the local URL\n",
    "print(\"---- streamlit.log ----\")\n",
    "with open(\"streamlit.log\") as f:\n",
    "    for _ in range(20):\n",
    "        line = f.readline()\n",
    "        if not line:\n",
    "            break\n",
    "        print(line.strip())\n"
   ]
  },
  {
   "cell_type": "code",
   "execution_count": 5,
   "id": "eac47a5b-b554-4421-a259-927f5b8f98aa",
   "metadata": {},
   "outputs": [
    {
     "name": "stdout",
     "output_type": "stream",
     "text": [
      "✅ Dependencies installed\n"
     ]
    }
   ],
   "source": [
    "# ── Cell 1: Install dependencies ──\n",
    "import sys\n",
    "import subprocess\n",
    "\n",
    "def install(pkg):\n",
    "    subprocess.check_call([sys.executable, \"-m\", \"pip\", \"install\", \"--quiet\", pkg])\n",
    "\n",
    "install(\"streamlit\")\n",
    "install(\"PyPDF2\")\n",
    "print(\"✅ Dependencies installed\")\n"
   ]
  },
  {
   "cell_type": "code",
   "execution_count": null,
   "id": "30c5bc75-3f7b-4602-85f0-fab033f94591",
   "metadata": {},
   "outputs": [],
   "source": []
  }
 ],
 "metadata": {
  "kernelspec": {
   "display_name": "gen_ai",
   "language": "python",
   "name": "python3"
  },
  "language_info": {
   "codemirror_mode": {
    "name": "ipython",
    "version": 3
   },
   "file_extension": ".py",
   "mimetype": "text/x-python",
   "name": "python",
   "nbconvert_exporter": "python",
   "pygments_lexer": "ipython3",
   "version": "3.10.0"
  }
 },
 "nbformat": 4,
 "nbformat_minor": 5
}
