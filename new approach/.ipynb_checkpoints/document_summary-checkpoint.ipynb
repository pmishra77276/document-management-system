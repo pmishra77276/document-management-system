{
 "cells": [
  {
   "cell_type": "code",
   "execution_count": 1,
   "id": "3ff277ed-fb5c-4727-9d5f-1c6e569af488",
   "metadata": {},
   "outputs": [],
   "source": [
    "from transformers import AutoModelForCausalLM,AutoTokenizer,BitsAndBytesConfig\n",
    "import torch\n",
    "bnb= BitsAndBytesConfig(\n",
    "    load_in_4bit=True,\n",
    "    bnb_4bit_compute_dtype=torch.bfloat16,\n",
    "    bnb_4bit_use_double_quant=True,\n",
    "    bnb_4bit_quant_type='nf4'\n",
    ")"
   ]
  },
  {
   "cell_type": "code",
   "execution_count": 2,
   "id": "96a08c3b-bfe2-4d6c-94f5-06e732311be9",
   "metadata": {
    "scrolled": true
   },
   "outputs": [
    {
     "data": {
      "application/vnd.jupyter.widget-view+json": {
       "model_id": "fee013f0380b46618b1124adee9ed961",
       "version_major": 2,
       "version_minor": 0
      },
      "text/plain": [
       "Loading checkpoint shards:   0%|          | 0/2 [00:00<?, ?it/s]"
      ]
     },
     "metadata": {},
     "output_type": "display_data"
    }
   ],
   "source": [
    "model=AutoModelForCausalLM.from_pretrained(\n",
    "    \"meta-llama/Llama-3.2-3B-Instruct\",\n",
    "    quantization_config=bnb,\n",
    "    trust_remote_code=True\n",
    ").to('cuda')\n",
    "model.config.use_sliding_window = False\n",
    "model = torch.compile(model)\n",
    "tokenizer=AutoTokenizer.from_pretrained(\"meta-llama/Llama-3.2-3B-Instruct\")\n",
    "\n"
   ]
  },
  {
   "cell_type": "code",
   "execution_count": null,
   "id": "7491e345-d535-4905-b7ff-8d42538d9b92",
   "metadata": {},
   "outputs": [],
   "source": [
    "import fitz\n",
    "\n",
    "def extract_text_from_pdf(pdf_path):\n",
    "    text = \"\"\n",
    "    with fitz.open(pdf_path) as doc:\n",
    "        for page_num, page in enumerate(doc, start=1):\n",
    "            page_text = page.get_text()\n",
    "            text += f\"\\n\\n--- Page {page_num} ---\\n\\n{page_text}\"\n",
    "    return text\n",
    "\n",
    "# Example usage\n",
    "pdf_file_path = \"your_file.pdf\"\n",
    "pdf_text = extract_text_from_pdf(pdf_file_path)\n"
   ]
  },
  {
   "cell_type": "code",
   "execution_count": 4,
   "id": "3db996f7-9452-46f6-8a48-563905e71452",
   "metadata": {},
   "outputs": [],
   "source": [
    "path=\"/home/pa2/ml/tf_gpu/OCR/extracted_data/1_D:\\BPL\\BLS\\Document\\Arbitration Award of Zostel Hospitality relied upon by the Claimant.txt\"\n",
    "text=''\n",
    "with open(path,'r') as file:\n",
    "    text=file.read()"
   ]
  },
  {
   "cell_type": "code",
   "execution_count": 8,
   "id": "c44a35d0-dc13-4d03-9f38-c78a00442d03",
   "metadata": {},
   "outputs": [
    {
     "name": "stdout",
     "output_type": "stream",
     "text": [
      "83\n"
     ]
    }
   ],
   "source": [
    "text_chunks=text.split(\"Page\")\n",
    "print(len(text_chunks))"
   ]
  },
  {
   "cell_type": "code",
   "execution_count": 3,
   "id": "33d5da4c-5103-4cce-b41b-8f054f61a716",
   "metadata": {
    "scrolled": true
   },
   "outputs": [
    {
     "name": "stdin",
     "output_type": "stream",
     "text": [
      "  Aman @ Azad vs State Of Nct Of Delhi on 1 April, 2025 Aman @ Azad vs State Of Nct Of Delhi on 1 April, 2025 $~57 * IN THE HIGH COURT OF DELHI AT NEW DELHI Pronounced on: 0 + BAIL APPLN. 3993/2024 AMAN @ AZAD Through: .....Pe Mr. Akshay, Advocate (t versus STATE OF NCT OF DELHI Through: .....Res Mr. Aman Usman, APP for with SI Narender Singh, Kanjhawala CORAM: HON'BLE MR. JUSTICE VIKAS MAHAJAN JUDGMENT VIKAS MAHAJAN, J. 1. The present petition has been filed under Section 483 read with Section 528 of BNSS, 2023 seeking regular bail in connection with FIR No.291/2017 under Sections 302/307/34 IPC registered at P.S. Kanjhawala, Delhi. 2. The case of the prosecution is that on 18.07.2017 when the complainant Pawan Kumar was going on a motorcycle along with his brother - Pradeep Kumar (the deceased), the petitioner and his three associates came from behind in a car, blew horn and asked the complainant to give them way. When the complainant moved aside, the accused persons blocked their way and an altercation took place in which deceased was shot. The complainant was also hit on his thigh. 3. The learned counsel appearing on behalf of the petitioner submits that the case of prosecution is based only on the testimony of sole eye-witness, namely, Pawan Kumar (complainant) who has been examined as PW-12. Inviting attention of the court to the statement of Pawan Kumar (PW-12), he submits that the eye-witness failed to identify the present petitioner in the court. The said witness was also cross-examined by the learned APP, who gave suggestion to PW-12 that he is intentionally not identifying the petitioner present in court as he has been won over by him, which suggestion was also denied by the said witness. 4. He submits that no weapon was recovered from the present petitioner, however, in the supplementary chargesheet filed by the prosecution, it is mentioned that during investigation, it was revealed that the petitioner was also arrested in case FIR No.299/2017 dated 20.07.2017 under Sections 25/27/54 Arms Act and Sections 411/482 IPC at P.S. Chhawala, Delhi in which one country-made pistol 7.65 mm was recovered from his possession and the same was seized by the Investigating Officer (IO) of the case. The said weapon was sent to FSL for expert opinion and the Indian Kanoon - http://indiankanoon.org/doc/157077852/ 1Aman @ Azad vs State Of Nct Of Delhi on 1 April, 2025 FSL report stated that empty cartridge recovered from the place of incident and the bullet recovered from the body of the deceased were fired from the weapon recovered from the petitioner in case bearing FIR No.299/2017. 5. He submits that since the eye-witness has not identified the petitioner, therefore, the conviction cannot be based solely on the FSL report, more so, when the recovery of weapon is not in the present case. 6. He submits that the petitioner is in custody since 08.08.2017 and by now he has been incarcerated for about 7 ½ years approximately. 7. He further contends that though there are other cases against the present petitioner but he is on bail in all the cases except in case FIR No.204/2017 under Sections 302/34 IPC and Sections 25/54/59 Arms Act registered at P.S. Dwarka, Delhi. 8. He contends that since there is no credible evidence to sustain the case of the prosecution, therefore, the petitioner be enlarged on bail. He further contends that co-accused Devender @ Sonu @ Praveen who as per prosecution version had shot at the deceased, has already been granted bail by this Court vide order dated 28.01.2025. 9. Per contra, the learned APP appearing on behalf of the State has argued on the lines of the status report. He submits that apart from the present case, the petitioner is involved in various other cases and some of them are heinous crimes under Section 302 IPC. He further contends that the FSL report also indicates as to the involvement of the present petitioner. 10. I have heard the learned counsel for the petitioner, as well as, the learned APP for the State and have gone through the material on record. 11. This court is cognizant of the fact that at this stage there cannot be appreciation and sifting of evidence in detail, however, I have perused the testimony of PW-12, the sole eye-witness, only for the limited purpose of deciding the present bail application of the petitioner. A cursory glance of the testimony of PW-12 reveals that the present petitioner has not been identified by PW-12. Even during his cross-examination, he has denied the suggestion put to him by the learned APP. 12. Though the FSL report indicates that empty cartridge recovered from the place on incident and bullet recovered from the body of the deceased were fired from the weapon recovered from the petitioner in another case FIR No.299/2017, the probative value of the same will be considered by the learned Trial Court during the course of trial in the light of the fact that PW-12, the sole eye-witness, has not supported the case of the prosecution. 13. Insofar as the pendency of other criminal cases against the present petitioner is concerned, needless to say that the pendency of such cases cannot be the sole ground for dismissing the present bail petition, especially when the petitioner is in custody since 08.08.2017. Indian Kanoon - http://indiankanoon.org/doc/157077852/ 2Aman @ Azad vs State Of Nct Of Delhi on 1 April, 2025 14. Having regard to the overall circumstances, more particularly, the long incarceration of the petitioner coupled with his non-identification by the sole eye-witness in the court, as well as the fact that the co-accused Devender @ Sonu @ Praveen who fired the only fatal shot has been granted bail, are sufficient to tilt the balance in favour of the present petitioner for grant of bail. 15. Insofar as presence of petitioner during remaining trial is concerned, the same can be ensured by imposing conditions by this Court. 16. Accordingly, the petitioner is admitted to bail on his furnishing a personal bond in the sum of Rs.25,000/- with one surety of the like amount subject to the satisfaction of the trial court/JMFC/ Duty JM and further subject to the following conditions: (a) Petitioner shall intimate the Trial Court by way of an affidavit and to the Investigating Officer regarding any change in residential address. (b) Petitioner shall provide all mobile numbers to the IO concerned which shall be kept in working condition at all times and shall not switch off or change the mobile number without prior intimation to the Investigating Officer concerned. The mobile location be kept on at all times. (c) Petitioner shall not indulge in any criminal activity and shall not communicate with or come in contact with the, witnesses or any family members of the witnesses. (d) Petitioner shall provide his permanent address to Investigating Officer concerned and shall not change the same without prior intimation to him. (e) Petitioner shall report to the concerned Investigating Officer between 04:00 p.m. to 05:00 p.m. on every second and fourth Saturday of the month and in case the IO is not available, he will report to the Duty Officer. The petitioner will, however, not be kept waiting beyond 5.00 p.m. on the day he reports. 17. It is clarified nothing mentioned above shall be construed as expression of opinion on the merits of the case. 18. The petition stands disposed of in the above terms. 19. Copy of the order be forwarded to the concerned Jail Superintendent for necessary compliance. 20. Order dasti under signatures of the Court Master. VIKAS MAHAJAN, J APRIL 01, 2025 aj Indian Kanoon - http://indiankanoon.org/doc/157077852/ 3  message_prompt=tokenizer.apply_chat_template(chat,tokenize=False) prompt=tokenizer([message_prompt],return_tensors='pt').to('cuda')\n"
     ]
    }
   ],
   "source": [
    "chunk_text=input()\n",
    "chat=[\n",
    "    {\n",
    "        \"role\":\"user\",\n",
    "        \"content\":f\"\"\"\n",
    "                Read the following passage and distill its core ideas into a clear, \n",
    "                conversational summary of no more than two sentences, \n",
    "                as if you were explaining it to a colleague in formal manner.\n",
    "\n",
    "                <text>\n",
    "                {chunk_text}\n",
    "                </text>\n",
    "                Summary:\n",
    "        \"\"\"\n",
    "    }\n",
    "]"
   ]
  },
  {
   "cell_type": "code",
   "execution_count": 4,
   "id": "9448d1dc-1135-417d-9090-205dcbd73fd6",
   "metadata": {},
   "outputs": [],
   "source": [
    "message_prompt=tokenizer.apply_chat_template(chat,tokenize=False)\n",
    "prompt=tokenizer([message_prompt],return_tensors='pt').to('cuda')"
   ]
  },
  {
   "cell_type": "code",
   "execution_count": 5,
   "id": "46e2a5fa-68f0-4acc-9c46-16dcac5b2a4b",
   "metadata": {},
   "outputs": [
    {
     "name": "stderr",
     "output_type": "stream",
     "text": [
      "Setting `pad_token_id` to `eos_token_id`:2 for open-end generation.\n"
     ]
    }
   ],
   "source": [
    "out=model.generate(input_ids=prompt['input_ids'],attention_mask=prompt['attention_mask'],max_new_tokens=2048).squeeze()"
   ]
  },
  {
   "cell_type": "code",
   "execution_count": 6,
   "id": "ed500c44-0b8b-4691-af88-845e6e65b37b",
   "metadata": {
    "scrolled": true
   },
   "outputs": [
    {
     "name": "stdout",
     "output_type": "stream",
     "text": [
      "\n",
      "                Read the following passage and distill its core ideas into a clear, \n",
      "                conversational summary of no more than two sentences, \n",
      "                as if you were explaining it to a colleagu.\n",
      "\n",
      "                <text>\n",
      "                 Aman @ Azad vs State Of Nct Of Delhi on 1 April, 2025 Aman @ Azad vs State Of Nct Of Delhi on 1 April, 2025 $~57 * IN THE HIGH COURT OF DELHI AT NEW DELHI Pronounced on: 0 + BAIL APPLN. 3993/2024 AMAN @ AZAD Through: .....Pe Mr. Akshay, Advocate (t versus STATE OF NCT OF DELHI Through: .....Res Mr. Aman Usman, APP for with SI Narender Singh, Kanjhawala CORAM: HON'BLE MR. JUSTICE VIKAS MAHAJAN JUDGMENT VIKAS MAHAJAN, J. 1. The present petition has been filed under Section 483 read with Section 528 of BNSS, 2023 seeking regular bail in connection with FIR No.291/2017 under Sections 302/307/34 IPC registered at P.S. Kanjhawala, Delhi. 2. The case of the prosecution is that on 18.07.2017 when the complainant Pawan Kumar was going on a motorcycle along with his brother - Pradeep Kumar (the deceased), the petitioner and his three associates came from behind in a car, blew horn and asked the complainant to give them way. When the complainant moved aside, the accused persons blocked their way and an altercation took place in which deceased was shot. The complainant was also hit on his thigh. 3. The learned counsel appearing on behalf of the petitioner submits that the case of prosecution is based only on the testimony of sole eye-witness, namely, Pawan Kumar (complainant) who has been examined as PW-12. Inviting attention of the court to the statement of Pawan Kumar (PW-12), he submits that the eye-witness failed to identify the present petitioner in the court. The said witness was also cross-examined by the learned APP, who gave suggestion to PW-12 that he is intentionally not identifying the petitioner present in court as he has been won over by him, which suggestion was also denied by the said witness. 4. He submits that no weapon was recovered from the present petitioner, however, in the supplementary chargesheet filed by the prosecution, it is mentioned that during investigation, it was revealed that the petitioner was also arrested in case FIR No.299/2017 dated 20.07.2017 under Sections 25/27/54 Arms Act and Sections 411/482 IPC at P.S. Chhawala, Delhi in which one country-made pistol 7.65 mm was recovered from his possession and the same was seized by the Investigating Officer (IO) of the case. The said weapon was sent to FSL for expert opinion and the Indian Kanoon - http://indiankanoon.org/doc/157077852/ 1Aman @ Azad vs State Of Nct Of Delhi on 1 April, 2025 FSL report stated that empty cartridge recovered from the place of incident and the bullet recovered from the body of the deceased were fired from the weapon recovered from the petitioner in case bearing FIR No.299/2017. 5. He submits that since the eye-witness has not identified the petitioner, therefore, the conviction cannot be based solely on the FSL report, more so, when the recovery of weapon is not in the present case. 6. He submits that the petitioner is in custody since 08.08.2017 and by now he has been incarcerated for about 7 ½ years approximately. 7. He further contends that though there are other cases against the present petitioner but he is on bail in all the cases except in case FIR No.204/2017 under Sections 302/34 IPC and Sections 25/54/59 Arms Act registered at P.S. Dwarka, Delhi. 8. He contends that since there is no credible evidence to sustain the case of the prosecution, therefore, the petitioner be enlarged on bail. He further contends that co-accused Devender @ Sonu @ Praveen who as per prosecution version had shot at the deceased, has already been granted bail by this Court vide order dated 28.01.2025. 9. Per contra, the learned APP appearing on behalf of the State has argued on the lines of the status report. He submits that apart from the present case, the petitioner is involved in various other cases and some of them are heinous crimes under Section 302 IPC. He further contends that the FSL report also indicates as to the involvement of the present petitioner. 10. I have heard the learned counsel for the petitioner, as well as, the learned APP for the State and have gone through the material on record. 11. This court is cognizant of the fact that at this stage there cannot be appreciation and sifting of evidence in detail, however, I have perused the testimony of PW-12, the sole eye-witness, only for the limited purpose of deciding the present bail application of the petitioner. A cursory glance of the testimony of PW-12 reveals that the present petitioner has not been identified by PW-12. Even during his cross-examination, he has denied the suggestion put to him by the learned APP. 12. Though the FSL report indicates that empty cartridge recovered from the place on incident and bullet recovered from the body of the deceased were fired from the weapon recovered from the petitioner in another case FIR No.299/2017, the probative value of the same will be considered by the learned Trial Court during the course of trial in the light of the fact that PW-12, the sole eye-witness, has not supported the case of the prosecution. 13. Insofar as the pendency of other criminal cases against the present petitioner is concerned, needless to say that the pendency of such cases cannot be the sole ground for dismissing the present bail petition, especially when the petitioner is in custody since 08.08.2017. Indian Kanoon - http://indiankanoon.org/doc/157077852/ 2Aman @ Azad vs State Of Nct Of Delhi on 1 April, 2025 14. Having regard to the overall circumstances, more particularly, the long incarceration of the petitioner coupled with his non-identification by the sole eye-witness in the court, as well as the fact that the co-accused Devender @ Sonu @ Praveen who fired the only fatal shot has been granted bail, are sufficient to tilt the balance in favour of the present petitioner for grant of bail. 15. Insofar as presence of petitioner during remaining trial is concerned, the same can be ensured by imposing conditions by this Court. 16. Accordingly, the petitioner is admitted to bail on his furnishing a personal bond in the sum of Rs.25,000/- with one surety of the like amount subject to the satisfaction of the trial court/JMFC/ Duty JM and further subject to the following conditions: (a) Petitioner shall intimate the Trial Court by way of an affidavit and to the Investigating Officer regarding any change in residential address. (b) Petitioner shall provide all mobile numbers to the IO concerned which shall be kept in working condition at all times and shall not switch off or change the mobile number without prior intimation to the Investigating Officer concerned. The mobile location be kept on at all times. (c) Petitioner shall not indulge in any criminal activity and shall not communicate with or come in contact with the, witnesses or any family members of the witnesses. (d) Petitioner shall provide his permanent address to Investigating Officer concerned and shall not change the same without prior intimation to him. (e) Petitioner shall report to the concerned Investigating Officer between 04:00 p.m. to 05:00 p.m. on every second and fourth Saturday of the month and in case the IO is not available, he will report to the Duty Officer. The petitioner will, however, not be kept waiting beyond 5.00 p.m. on the day he reports. 17. It is clarified nothing mentioned above shall be construed as expression of opinion on the merits of the case. 18. The petition stands disposed of in the above terms. 19. Copy of the order be forwarded to the concerned Jail Superintendent for necessary compliance. 20. Order dasti under signatures of the Court Master. VIKAS MAHAJAN, J APRIL 01, 2025 aj Indian Kanoon - http://indiankanoon.org/doc/157077852/ 3  message_prompt=tokenizer.apply_chat_template(chat,tokenize=False) prompt=tokenizer([message_prompt],return_tensors='pt').to('cuda')\n",
      "                </text>\n",
      "                Summary:\n",
      "         In the case Aman @ Azad vs State of NCT of Delhi, the High Court of Delhi granted bail to the defendant, Aman @ Azad, in a case related to FIR No.291/2017 under Sections 302/307/34 IPC. The key arguments presented by the defense were that the sole eye-witness, Pawan Kumar, failed to identify the defendant in court, and that the recovery of a weapon in another case does not hold much probative value since the witness did not support the prosecution's case. The court acknowledged the defendant's long incarceration and the fact that a co-accused, Devender @ Sonu @ Praveen, had already been granted bail. The defendant was released on bail with certain conditions, including regular reporting to the investigating officer and maintaining mobile contact. The court clarified that this decision does not express an opinion on the merits of the case.\n"
     ]
    }
   ],
   "source": [
    "print(tokenizer.decode(out,skip_special_tokens=True))"
   ]
  },
  {
   "cell_type": "code",
   "execution_count": null,
   "id": "75a6106c-82f9-4f39-a202-0bf7f7ae5433",
   "metadata": {},
   "outputs": [],
   "source": []
  },
  {
   "cell_type": "code",
   "execution_count": null,
   "id": "7200c233-ba6b-460f-85d4-28394d2d35a4",
   "metadata": {},
   "outputs": [],
   "source": []
  }
 ],
 "metadata": {
  "kernelspec": {
   "display_name": "Python 3 (ipykernel)",
   "language": "python",
   "name": "python3"
  },
  "language_info": {
   "codemirror_mode": {
    "name": "ipython",
    "version": 3
   },
   "file_extension": ".py",
   "mimetype": "text/x-python",
   "name": "python",
   "nbconvert_exporter": "python",
   "pygments_lexer": "ipython3",
   "version": "3.10.16"
  }
 },
 "nbformat": 4,
 "nbformat_minor": 5
}
